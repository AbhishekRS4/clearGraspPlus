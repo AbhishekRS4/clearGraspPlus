{
 "cells": [
  {
   "cell_type": "code",
   "execution_count": null,
   "id": "cd533847",
   "metadata": {},
   "outputs": [],
   "source": [
    "import os\n",
    "import numpy as np\n",
    "import matplotlib.pyplot as plt\n",
    "import matplotlib.patches as patches"
   ]
  },
  {
   "cell_type": "code",
   "execution_count": null,
   "id": "1569b18c",
   "metadata": {},
   "outputs": [],
   "source": [
    "from imageio import imread"
   ]
  },
  {
   "cell_type": "markdown",
   "id": "ac3b1585",
   "metadata": {},
   "source": [
    "## Occlusion boundary"
   ]
  },
  {
   "cell_type": "code",
   "execution_count": null,
   "id": "6585b25b",
   "metadata": {},
   "outputs": [],
   "source": [
    "file_img = \"/home/abhishek/Desktop/RUG/ai_master_thesis/camera_setup_images/images_without_legend/bou-tree-bath-bomb-test-104-resnet50_psa.png\""
   ]
  },
  {
   "cell_type": "code",
   "execution_count": null,
   "id": "4f38cd6c",
   "metadata": {},
   "outputs": [],
   "source": [
    "file_img.split(\"/\")[-1]"
   ]
  },
  {
   "cell_type": "code",
   "execution_count": null,
   "id": "09713ae3",
   "metadata": {},
   "outputs": [],
   "source": [
    "img = imread(file_img)"
   ]
  },
  {
   "cell_type": "code",
   "execution_count": null,
   "id": "4867b6c4",
   "metadata": {},
   "outputs": [],
   "source": [
    "plt.figure()\n",
    "occ_red_patch = patches.Patch(color='red', label='background')\n",
    "occ_blue_patch = patches.Patch(color='blue', label='occlusion edge')\n",
    "occ_green_patch = patches.Patch(color='lawngreen', label='normal edge')\n",
    "plt.legend(handles=[occ_red_patch, occ_green_patch, occ_blue_patch], loc='center left', bbox_to_anchor=(1, 0.5))\n",
    "plt.imshow(img)\n",
    "plt.axis(\"off\")\n",
    "plt.savefig(file_img.split(\"/\")[-1], bbox_inches=\"tight\", dpi=300)"
   ]
  },
  {
   "cell_type": "code",
   "execution_count": null,
   "id": "6454606f",
   "metadata": {},
   "outputs": [],
   "source": []
  },
  {
   "cell_type": "markdown",
   "id": "4d089c1a",
   "metadata": {},
   "source": [
    "## Transparent object segmentation"
   ]
  },
  {
   "cell_type": "code",
   "execution_count": null,
   "id": "2e53a52f",
   "metadata": {},
   "outputs": [],
   "source": [
    "file_img = \"/home/abhishek/Desktop/RUG/ai_master_thesis/camera_setup_images/images_without_legend/obj-tree-bath-bomb-test-92-rgb-resnet50_psa.png\""
   ]
  },
  {
   "cell_type": "code",
   "execution_count": null,
   "id": "7bf81a26",
   "metadata": {},
   "outputs": [],
   "source": [
    "file_img.split(\"/\")[-1]"
   ]
  },
  {
   "cell_type": "code",
   "execution_count": null,
   "id": "2ba02320",
   "metadata": {},
   "outputs": [],
   "source": [
    "img = imread(file_img)"
   ]
  },
  {
   "cell_type": "code",
   "execution_count": null,
   "id": "a684e2ac",
   "metadata": {},
   "outputs": [],
   "source": [
    "plt.figure()\n",
    "obj_red_patch = patches.Patch(color='red', label='background')\n",
    "obj_green_patch = patches.Patch(color='lawngreen', label='transparent object')\n",
    "plt.legend(handles=[obj_red_patch, obj_green_patch], loc='center left', bbox_to_anchor=(1, 0.5))\n",
    "plt.imshow(img)\n",
    "plt.axis(\"off\")\n",
    "plt.savefig(file_img.split(\"/\")[-1], bbox_inches=\"tight\", dpi=300)"
   ]
  },
  {
   "cell_type": "code",
   "execution_count": null,
   "id": "d658dff1",
   "metadata": {},
   "outputs": [],
   "source": []
  }
 ],
 "metadata": {
  "kernelspec": {
   "display_name": "Python 3 (ipykernel)",
   "language": "python",
   "name": "python3"
  },
  "language_info": {
   "codemirror_mode": {
    "name": "ipython",
    "version": 3
   },
   "file_extension": ".py",
   "mimetype": "text/x-python",
   "name": "python",
   "nbconvert_exporter": "python",
   "pygments_lexer": "ipython3",
   "version": "3.8.10"
  }
 },
 "nbformat": 4,
 "nbformat_minor": 5
}
