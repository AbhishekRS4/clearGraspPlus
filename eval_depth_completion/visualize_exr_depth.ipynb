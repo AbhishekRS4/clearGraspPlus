{
 "cells": [
  {
   "cell_type": "code",
   "execution_count": null,
   "id": "8b6cef22",
   "metadata": {},
   "outputs": [],
   "source": [
    "import os\n",
    "import sys\n",
    "import numpy as np\n",
    "from imageio import imread\n",
    "import matplotlib.pyplot as plt"
   ]
  },
  {
   "cell_type": "code",
   "execution_count": null,
   "id": "7b6f4bb5",
   "metadata": {},
   "outputs": [],
   "source": [
    "sys.path.append(os.path.join(os.path.dirname(\".\"), \"..\"))\n",
    "from api import utils as api_utils"
   ]
  },
  {
   "cell_type": "code",
   "execution_count": null,
   "id": "a27c283e",
   "metadata": {},
   "outputs": [],
   "source": [
    "file_depth = \"/home/abhishek/Desktop/github_repos//ai_master_thesis/kinect_data/groundtruth_transparent_objects/multi_object_gt//depth_exr/multi-object-00-transparent-depth-img.exr\""
   ]
  },
  {
   "cell_type": "code",
   "execution_count": null,
   "id": "d3990133",
   "metadata": {},
   "outputs": [],
   "source": [
    "img_depth = api_utils.exr_loader(file_depth, ndim=1)"
   ]
  },
  {
   "cell_type": "code",
   "execution_count": null,
   "id": "0499d01f",
   "metadata": {},
   "outputs": [],
   "source": [
    "img_depth.shape"
   ]
  },
  {
   "cell_type": "code",
   "execution_count": null,
   "id": "6773c015",
   "metadata": {},
   "outputs": [],
   "source": [
    "plt.imshow(img_depth)"
   ]
  },
  {
   "cell_type": "code",
   "execution_count": null,
   "id": "58cc90ba",
   "metadata": {},
   "outputs": [],
   "source": [
    "img_depth.dtype"
   ]
  },
  {
   "cell_type": "code",
   "execution_count": null,
   "id": "cda9753d",
   "metadata": {},
   "outputs": [],
   "source": [
    "np.min(img_depth), np.max(img_depth)"
   ]
  }
 ],
 "metadata": {
  "kernelspec": {
   "display_name": "env_clear_grasp_plus",
   "language": "python",
   "name": "env_clear_grasp_plus"
  },
  "language_info": {
   "codemirror_mode": {
    "name": "ipython",
    "version": 3
   },
   "file_extension": ".py",
   "mimetype": "text/x-python",
   "name": "python",
   "nbconvert_exporter": "python",
   "pygments_lexer": "ipython3",
   "version": "3.8.10"
  }
 },
 "nbformat": 4,
 "nbformat_minor": 5
}
